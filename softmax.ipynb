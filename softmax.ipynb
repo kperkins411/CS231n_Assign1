{
 "cells": [
  {
   "cell_type": "markdown",
   "metadata": {},
   "source": [
    "# Softmax exercise\n",
    "\n",
    "*Complete and hand in this completed worksheet (including its outputs and any supporting code outside of the worksheet) with your assignment submission. For more details see the [assignments page](http://vision.stanford.edu/teaching/cs231n/assignments.html) on the course website.*\n",
    "\n",
    "This exercise is analogous to the SVM exercise. You will:\n",
    "\n",
    "- implement a fully-vectorized **loss function** for the Softmax classifier\n",
    "- implement the fully-vectorized expression for its **analytic gradient**\n",
    "- **check your implementation** with numerical gradient\n",
    "- use a validation set to **tune the learning rate and regularization** strength\n",
    "- **optimize** the loss function with **SGD**\n",
    "- **visualize** the final learned weights\n"
   ]
  },
  {
   "cell_type": "code",
   "execution_count": 34,
   "metadata": {
    "collapsed": false
   },
   "outputs": [
    {
     "name": "stdout",
     "output_type": "stream",
     "text": [
      "The autoreload extension is already loaded. To reload it, use:\n",
      "  %reload_ext autoreload\n"
     ]
    }
   ],
   "source": [
    "import random\n",
    "import numpy as np\n",
    "from cs231n.data_utils import load_CIFAR10\n",
    "import matplotlib.pyplot as plt\n",
    "%matplotlib inline\n",
    "plt.rcParams['figure.figsize'] = (10.0, 8.0) # set default size of plots\n",
    "plt.rcParams['image.interpolation'] = 'nearest'\n",
    "plt.rcParams['image.cmap'] = 'gray'\n",
    "\n",
    "# for auto-reloading extenrnal modules\n",
    "# see http://stackoverflow.com/questions/1907993/autoreload-of-modules-in-ipython\n",
    "%load_ext autoreload\n",
    "%autoreload 2"
   ]
  },
  {
   "cell_type": "code",
   "execution_count": 35,
   "metadata": {
    "collapsed": false
   },
   "outputs": [
    {
     "name": "stdout",
     "output_type": "stream",
     "text": [
      "Train data shape:  (49000, 3073)\n",
      "Train labels shape:  (49000,)\n",
      "Validation data shape:  (1000, 3073)\n",
      "Validation labels shape:  (1000,)\n",
      "Test data shape:  (1000, 3073)\n",
      "Test labels shape:  (1000,)\n",
      "dev data shape:  (500, 3073)\n",
      "dev labels shape:  (500,)\n"
     ]
    }
   ],
   "source": [
    "def get_CIFAR10_data(num_training=49000, num_validation=1000, num_test=1000, num_dev=500):\n",
    "  \"\"\"\n",
    "  Load the CIFAR-10 dataset from disk and perform preprocessing to prepare\n",
    "  it for the linear classifier. These are the same steps as we used for the\n",
    "  SVM, but condensed to a single function.  \n",
    "  \"\"\"\n",
    "  # Load the raw CIFAR-10 data\n",
    "  cifar10_dir = 'cs231n/datasets/cifar-10-batches-py'\n",
    "  X_train, y_train, X_test, y_test = load_CIFAR10(cifar10_dir)\n",
    "  \n",
    "  # subsample the data\n",
    "  mask = range(num_training, num_training + num_validation)\n",
    "  X_val = X_train[mask]\n",
    "  y_val = y_train[mask]\n",
    "  mask = range(num_training)\n",
    "  X_train = X_train[mask]\n",
    "  y_train = y_train[mask]\n",
    "  mask = range(num_test)\n",
    "  X_test = X_test[mask]\n",
    "  y_test = y_test[mask]\n",
    "  mask = np.random.choice(num_training, num_dev, replace=False)\n",
    "  X_dev = X_train[mask]\n",
    "  y_dev = y_train[mask]\n",
    "  \n",
    "  # Preprocessing: reshape the image data into rows\n",
    "  X_train = np.reshape(X_train, (X_train.shape[0], -1))\n",
    "  X_val = np.reshape(X_val, (X_val.shape[0], -1))\n",
    "  X_test = np.reshape(X_test, (X_test.shape[0], -1))\n",
    "  X_dev = np.reshape(X_dev, (X_dev.shape[0], -1))\n",
    "  \n",
    "  # Normalize the data: subtract the mean image\n",
    "  mean_image = np.mean(X_train, axis = 0)\n",
    "  X_train -= mean_image\n",
    "  X_val -= mean_image\n",
    "  X_test -= mean_image\n",
    "  X_dev -= mean_image\n",
    "  \n",
    "  # add bias dimension and transform into columns\n",
    "  X_train = np.hstack([X_train, np.ones((X_train.shape[0], 1))])\n",
    "  X_val = np.hstack([X_val, np.ones((X_val.shape[0], 1))])\n",
    "  X_test = np.hstack([X_test, np.ones((X_test.shape[0], 1))])\n",
    "  X_dev = np.hstack([X_dev, np.ones((X_dev.shape[0], 1))])\n",
    "  \n",
    "  return X_train, y_train, X_val, y_val, X_test, y_test, X_dev, y_dev\n",
    "\n",
    "\n",
    "# Invoke the above function to get our data.\n",
    "X_train, y_train, X_val, y_val, X_test, y_test, X_dev, y_dev = get_CIFAR10_data()\n",
    "print 'Train data shape: ', X_train.shape\n",
    "print 'Train labels shape: ', y_train.shape\n",
    "print 'Validation data shape: ', X_val.shape\n",
    "print 'Validation labels shape: ', y_val.shape\n",
    "print 'Test data shape: ', X_test.shape\n",
    "print 'Test labels shape: ', y_test.shape\n",
    "print 'dev data shape: ', X_dev.shape\n",
    "print 'dev labels shape: ', y_dev.shape"
   ]
  },
  {
   "cell_type": "markdown",
   "metadata": {},
   "source": [
    "## Softmax Classifier\n",
    "\n",
    "Your code for this section will all be written inside **cs231n/classifiers/softmax.py**. \n"
   ]
  },
  {
   "cell_type": "code",
   "execution_count": 36,
   "metadata": {
    "collapsed": false
   },
   "outputs": [
    {
     "name": "stdout",
     "output_type": "stream",
     "text": [
      "--Return--\n",
      "> <ipython-input-36-5eb873d97981>(7)<module>()->None\n",
      "-> import pdb; pdb.set_trace()\n",
      "(Pdb) c\n",
      "loss: 2.347173\n",
      "sanity check: 2.302585\n"
     ]
    }
   ],
   "source": [
    "# First implement the naive softmax loss function with nested loops.\n",
    "# Open the file cs231n/classifiers/softmax.py and implement the\n",
    "# softmax_loss_naive function.\n",
    "\n",
    "from cs231n.classifiers.softmax import softmax_loss_naive\n",
    "import time\n",
    "\n",
    "# Generate a random softmax weight matrix and use it to compute the loss.\n",
    "W = np.random.randn(3073, 10) * 0.0001\n",
    "loss, grad = softmax_loss_naive(W, X_dev, y_dev, 0.0)\n",
    "\n",
    "# As a rough sanity check, our loss should be something close to -log(0.1).\n",
    "print 'loss: %f' % loss\n",
    "print 'sanity check: %f' % (-np.log(0.1))"
   ]
  },
  {
   "cell_type": "markdown",
   "metadata": {},
   "source": [
    "## Inline Question 1:\n",
    "Why do we expect our loss to be close to -log(0.1)? Explain briefly.**\n",
    "\n",
    "**Your answer:** The cifar 10 database has 10 categories.  You initialize W randomly.  So you would think that each class would have about a 10% probability of being selected or 1/10 or .1.  IOW random init should be about 10% probability.\n"
   ]
  },
  {
   "cell_type": "code",
   "execution_count": 37,
   "metadata": {
    "collapsed": false
   },
   "outputs": [
    {
     "name": "stdout",
     "output_type": "stream",
     "text": [
      "numerical: -0.906811 analytic: -0.906811, relative error: 6.565008e-09\n",
      "numerical: 0.591207 analytic: 0.591207, relative error: 6.471140e-08\n",
      "numerical: 1.367403 analytic: 1.367403, relative error: 1.036802e-08\n",
      "numerical: -0.602940 analytic: -0.602940, relative error: 1.661953e-08\n",
      "numerical: 0.844971 analytic: 0.844971, relative error: 3.240697e-08\n",
      "numerical: -0.160218 analytic: -0.160218, relative error: 3.126839e-07\n",
      "numerical: 0.787931 analytic: 0.787931, relative error: 1.320058e-08\n",
      "numerical: 2.201489 analytic: 2.201489, relative error: 3.442478e-08\n",
      "numerical: 0.552573 analytic: 0.552573, relative error: 1.421137e-09\n",
      "numerical: -3.661014 analytic: -3.661014, relative error: 7.399673e-09\n",
      "numerical: 3.477317 analytic: 3.477317, relative error: 1.365308e-09\n",
      "numerical: -0.535093 analytic: -0.535094, relative error: 3.249069e-08\n",
      "numerical: 2.274918 analytic: 2.274918, relative error: 1.546696e-08\n",
      "numerical: 0.590224 analytic: 0.590224, relative error: 5.904634e-08\n",
      "numerical: 2.039437 analytic: 2.039437, relative error: 3.219188e-08\n",
      "numerical: 0.882656 analytic: 0.882656, relative error: 1.899464e-08\n",
      "numerical: 0.214531 analytic: 0.214531, relative error: 2.914892e-07\n",
      "numerical: -0.335055 analytic: -0.335056, relative error: 9.491669e-08\n",
      "numerical: 1.198487 analytic: 1.198487, relative error: 1.254070e-08\n",
      "numerical: 2.442713 analytic: 2.442713, relative error: 5.280204e-09\n"
     ]
    }
   ],
   "source": [
    "# Complete the implementation of softmax_loss_naive and implement a (naive)\n",
    "# version of the gradient that uses nested loops.\n",
    "loss, grad = softmax_loss_naive(W, X_dev, y_dev, 0.0)\n",
    "\n",
    "# As we did for the SVM, use numeric gradient checking as a debugging tool.\n",
    "# The numeric gradient should be close to the analytic gradient.\n",
    "from cs231n.gradient_check import grad_check_sparse\n",
    "f = lambda w: softmax_loss_naive(w, X_dev, y_dev, 0.0)[0]\n",
    "grad_numerical = grad_check_sparse(f, W, grad, 10)\n",
    "\n",
    "# similar to SVM case, do another gradient check with regularization\n",
    "loss, grad = softmax_loss_naive(W, X_dev, y_dev, 1e2)\n",
    "f = lambda w: softmax_loss_naive(w, X_dev, y_dev, 1e2)[0]\n",
    "grad_numerical = grad_check_sparse(f, W, grad, 10)"
   ]
  },
  {
   "cell_type": "code",
   "execution_count": 38,
   "metadata": {
    "collapsed": false
   },
   "outputs": [
    {
     "name": "stdout",
     "output_type": "stream",
     "text": [
      "naive loss: 2.347173e+00 computed in 0.032822s\n",
      "--Return--\n",
      "> <ipython-input-38-8d549fd3aa1a>(9)<module>()->None\n",
      "-> import pdb; pdb.set_trace()\n",
      "(Pdb) c\n",
      "vectorized loss: 2.347173e+00 computed in 0.010760s\n",
      "Loss difference: 0.000000\n",
      "Gradient difference: 0.000000\n"
     ]
    }
   ],
   "source": [
    "# Now that we have a naive implementation of the softmax loss function and its gradient,\n",
    "# implement a vectorized version in softmax_loss_vectorized.\n",
    "# The two versions should compute the same results, but the vectorized version should be\n",
    "# much faster.\n",
    "tic = time.time()\n",
    "loss_naive, grad_naive = softmax_loss_naive(W, X_dev, y_dev, 0.00001)\n",
    "toc = time.time()\n",
    "print 'naive loss: %e computed in %fs' % (loss_naive, toc - tic)\n",
    "#import pdb; pdb.set_trace()\n",
    "from cs231n.classifiers.softmax import softmax_loss_vectorized\n",
    "tic = time.time()\n",
    "loss_vectorized, grad_vectorized = softmax_loss_vectorized(W, X_dev, y_dev, 0.00001)\n",
    "toc = time.time()\n",
    "print 'vectorized loss: %e computed in %fs' % (loss_vectorized, toc - tic)\n",
    "\n",
    "# As we did for the SVM, we use the Frobenius norm to compare the two versions\n",
    "# of the gradient.\n",
    "grad_difference = np.linalg.norm(grad_naive - grad_vectorized, ord='fro')\n",
    "print 'Loss difference: %f' % np.abs(loss_naive - loss_vectorized)\n",
    "print 'Gradient difference: %f' % grad_difference"
   ]
  },
  {
   "cell_type": "code",
   "execution_count": 47,
   "metadata": {
    "collapsed": false
   },
   "outputs": [
    {
     "name": "stdout",
     "output_type": "stream",
     "text": [
      "preds shape is (49000, 10)\n",
      "y_pred shape is (49000,)\n",
      "preds shape is (1000, 10)\n",
      "y_pred shape is (1000,)\n",
      "preds shape is (49000, 10)\n",
      "y_pred shape is (49000,)\n",
      "preds shape is (1000, 10)\n",
      "y_pred shape is (1000,)\n",
      "preds shape is (49000, 10)\n",
      "y_pred shape is (49000,)\n",
      "preds shape is (1000, 10)\n",
      "y_pred shape is (1000,)\n",
      "preds shape is (49000, 10)\n",
      "y_pred shape is (49000,)\n",
      "preds shape is (1000, 10)\n",
      "y_pred shape is (1000,)\n",
      "preds shape is (49000, 10)\n",
      "y_pred shape is (49000,)\n",
      "preds shape is (1000, 10)\n",
      "y_pred shape is (1000,)\n",
      "preds shape is (49000, 10)\n",
      "y_pred shape is (49000,)\n",
      "preds shape is (1000, 10)\n",
      "y_pred shape is (1000,)\n",
      "preds shape is (49000, 10)\n",
      "y_pred shape is (49000,)\n",
      "preds shape is (1000, 10)\n",
      "y_pred shape is (1000,)\n",
      "preds shape is (49000, 10)\n",
      "y_pred shape is (49000,)\n",
      "preds shape is (1000, 10)\n",
      "y_pred shape is (1000,)\n",
      "preds shape is (49000, 10)\n",
      "y_pred shape is (49000,)\n",
      "preds shape is (1000, 10)\n",
      "y_pred shape is (1000,)\n",
      "preds shape is (49000, 10)\n",
      "y_pred shape is (49000,)\n",
      "preds shape is (1000, 10)\n",
      "y_pred shape is (1000,)\n",
      "preds shape is (49000, 10)\n",
      "y_pred shape is (49000,)\n",
      "preds shape is (1000, 10)\n",
      "y_pred shape is (1000,)\n",
      "preds shape is (49000, 10)\n",
      "y_pred shape is (49000,)\n",
      "preds shape is (1000, 10)\n",
      "y_pred shape is (1000,)\n",
      "preds shape is (49000, 10)\n",
      "y_pred shape is (49000,)\n",
      "preds shape is (1000, 10)\n",
      "y_pred shape is (1000,)\n",
      "preds shape is (49000, 10)\n",
      "y_pred shape is (49000,)\n",
      "preds shape is (1000, 10)\n",
      "y_pred shape is (1000,)\n",
      "preds shape is (49000, 10)\n",
      "y_pred shape is (49000,)\n",
      "preds shape is (1000, 10)\n",
      "y_pred shape is (1000,)\n",
      "lr 1.000000e-07 reg 1.000000e-05 train accuracy: 0.225653 val accuracy: 0.216000\n",
      "lr 1.000000e-07 reg 5.000000e-04 train accuracy: 0.225041 val accuracy: 0.214000\n",
      "lr 1.000000e-07 reg 1.000000e-03 train accuracy: 0.239429 val accuracy: 0.257000\n",
      "lr 5.000000e-07 reg 1.000000e-05 train accuracy: 0.298224 val accuracy: 0.293000\n",
      "lr 5.000000e-07 reg 5.000000e-04 train accuracy: 0.304204 val accuracy: 0.309000\n",
      "lr 5.000000e-07 reg 1.000000e-03 train accuracy: 0.301571 val accuracy: 0.306000\n",
      "lr 1.000000e-06 reg 1.000000e-05 train accuracy: 0.331918 val accuracy: 0.339000\n",
      "lr 1.000000e-06 reg 5.000000e-04 train accuracy: 0.330837 val accuracy: 0.332000\n",
      "lr 1.000000e-06 reg 1.000000e-03 train accuracy: 0.329122 val accuracy: 0.314000\n",
      "lr 5.000000e-06 reg 1.000000e-05 train accuracy: 0.367776 val accuracy: 0.353000\n",
      "lr 5.000000e-06 reg 5.000000e-04 train accuracy: 0.383592 val accuracy: 0.369000\n",
      "lr 5.000000e-06 reg 1.000000e-03 train accuracy: 0.381571 val accuracy: 0.369000\n",
      "lr 5.000000e-05 reg 1.000000e-05 train accuracy: 0.302327 val accuracy: 0.295000\n",
      "lr 5.000000e-05 reg 5.000000e-04 train accuracy: 0.327041 val accuracy: 0.307000\n",
      "lr 5.000000e-05 reg 1.000000e-03 train accuracy: 0.311306 val accuracy: 0.297000\n",
      "best validation accuracy achieved during cross-validation: 0.369000\n"
     ]
    }
   ],
   "source": [
    "# Use the validation set to tune hyperparameters (regularization strength and\n",
    "# learning rate). You should experiment with different ranges for the learning\n",
    "# rates and regularization strengths; if you are careful you should be able to\n",
    "# get a classification accuracy of over 0.35 on the validation set.\n",
    "from cs231n.classifiers import Softmax\n",
    "import pdb\n",
    "results = {}\n",
    "best_val = -1\n",
    "best_softmax = None\n",
    "learning_rates = [5e-7, 1e-7,5e-6,1e-6, 5e-5]\n",
    "regularization_strengths = [1e-3, 5e-4, 1e-5]\n",
    "# learning_rates = [5e-7, 1e-7]\n",
    "# regularization_strengths = [1e-3]\n",
    "for lr in learning_rates:\n",
    "    for rs in regularization_strengths:\n",
    "        softmax = Softmax()\n",
    "        softmax.train(X_train, y_train, learning_rate=lr, reg=rs,num_iters=1000)\n",
    "\n",
    "        #get train and validation accuracy\n",
    "        y_train_pred = softmax.predict(X_train)\n",
    "        train_acc = (np.mean(y_train == y_train_pred), )\n",
    "\n",
    "        y_val_pred = softmax.predict(X_val)\n",
    "        val_acc = (np.mean(y_val == y_val_pred), )\n",
    "\n",
    "        #save\n",
    "        results[(lr,rs)] = (train_acc,val_acc)\n",
    "        \n",
    "        #keep track of highest validation accuracy\n",
    "        if (val_acc > best_val):\n",
    "            best_val = val_acc\n",
    "            best_softmax = softmax\n",
    "            \n",
    "# Print out results.\n",
    "#pdb.set_trace()\n",
    "for lr, reg in sorted(results):\n",
    "\n",
    "    train_accuracy, val_accuracy = results[(lr, reg)]\n",
    "    print 'lr %e reg %e train accuracy: %f val accuracy: %f' % (\n",
    "                lr, reg, train_accuracy[0], val_accuracy[0])\n",
    "    \n",
    "print 'best validation accuracy achieved during cross-validation: %f' % best_val"
   ]
  },
  {
   "cell_type": "code",
   "execution_count": 48,
   "metadata": {
    "collapsed": false
   },
   "outputs": [
    {
     "name": "stdout",
     "output_type": "stream",
     "text": [
      "preds shape is (1000, 10)\n",
      "y_pred shape is (1000,)\n",
      "softmax on raw pixels final test set accuracy: 0.363000\n"
     ]
    }
   ],
   "source": [
    "# evaluate on test set\n",
    "# Evaluate the best softmax on test set\n",
    "y_test_pred = best_softmax.predict(X_test)\n",
    "test_accuracy = np.mean(y_test == y_test_pred)\n",
    "print 'softmax on raw pixels final test set accuracy: %f' % (test_accuracy, )"
   ]
  },
  {
   "cell_type": "code",
   "execution_count": 49,
   "metadata": {
    "collapsed": false
   },
   "outputs": [
    {
     "data": {
      "image/png": "[encoded data removed]",
      "text/plain": [
       "<matplotlib.figure.Figure at 0x7f523cce42d0>"
      ]
     },
     "metadata": {},
     "output_type": "display_data"
    }
   ],
   "source": [
    "# Visualize the learned weights for each class\n",
    "w = best_softmax.W[:-1,:] # strip out the bias\n",
    "w = w.reshape(32, 32, 3, 10)\n",
    "\n",
    "w_min, w_max = np.min(w), np.max(w)\n",
    "\n",
    "classes = ['plane', 'car', 'bird', 'cat', 'deer', 'dog', 'frog', 'horse', 'ship', 'truck']\n",
    "for i in xrange(10):\n",
    "  plt.subplot(2, 5, i + 1)\n",
    "  \n",
    "  # Rescale the weights to be between 0 and 255\n",
    "  wimg = 255.0 * (w[:, :, :, i].squeeze() - w_min) / (w_max - w_min)\n",
    "  plt.imshow(wimg.astype('uint8'))\n",
    "  plt.axis('off')\n",
    "  plt.title(classes[i])"
   ]
  },
  {
   "cell_type": "code",
   "execution_count": null,
   "metadata": {
    "collapsed": true
   },
   "outputs": [],
   "source": []
  }
 ],
 "metadata": {
  "kernelspec": {
   "display_name": "Python 2",
   "language": "python",
   "name": "python2"
  }
 },
 "nbformat": 4,
 "nbformat_minor": 0
}
